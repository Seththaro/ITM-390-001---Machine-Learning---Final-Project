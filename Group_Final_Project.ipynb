{
 "cells": [
  {
   "cell_type": "markdown",
   "metadata": {},
   "source": [
    "## ITM390: Machine Learning\n",
    "## Final Project\n",
    "### Implemented by: HOUR Seth Tharo, TAING Soonly, MONG Chanrattnak\n",
    "The script loads labeled face images, preprocesses them, trains a machine learning model, evaluates its performance, and finally tests the model on new images. The specific dataset used is Labeled Faces in the Wild (LFW), and the script provides a comprehensive pipeline for facial recognition using machine learning."
   ]
  },
  {
   "cell_type": "markdown",
   "metadata": {},
   "source": [
    "##### Import Necessary Libraries"
   ]
  },
  {
   "cell_type": "code",
   "execution_count": 1,
   "metadata": {},
   "outputs": [],
   "source": [
    "import os\n",
    "import cv2\n",
    "import numpy as np\n",
    "from sklearn.model_selection import train_test_split\n",
    "from sklearn.svm import SVC\n",
    "from sklearn.metrics import accuracy_score, precision_score, recall_score, f1_score, confusion_matrix\n",
    "from sklearn.preprocessing import StandardScaler\n",
    "from sklearn.decomposition import PCA\n",
    "import seaborn as sns\n",
    "import matplotlib.pyplot as plt"
   ]
  },
  {
   "cell_type": "markdown",
   "metadata": {},
   "source": [
    "##### Loading labeled face images for training the model\n",
    "Loads images from the specified folder path, detects labels from subfolder names, and returns a list of image data and corresponding labels."
   ]
  },
  {
   "cell_type": "code",
   "execution_count": 2,
   "metadata": {},
   "outputs": [],
   "source": [
    "def load_lfw_images(folder_path):\n",
    "    image_data = []\n",
    "    labels = []\n",
    "    for root, dirs, files in os.walk(folder_path):\n",
    "        if len(files) >= 20:\n",
    "            for file in files:\n",
    "                file_path = os.path.join(root, file)\n",
    "                label = os.path.basename(root)\n",
    "                image_data.append((cv2.imread(file_path, cv2.IMREAD_GRAYSCALE), label))\n",
    "                labels.append(label)\n",
    "    return image_data, labels"
   ]
  },
  {
   "cell_type": "markdown",
   "metadata": {},
   "source": [
    "##### Preprocessing step to focus on facial features\n",
    "Uses Haar cascades to detect faces in the input image and returns a cropped and resized face image."
   ]
  },
  {
   "cell_type": "code",
   "execution_count": 3,
   "metadata": {},
   "outputs": [],
   "source": [
    "def detect_and_crop_face(image):\n",
    "    face_cascade = cv2.CascadeClassifier(cv2.data.haarcascades + 'haarcascade_frontalface_default.xml')\n",
    "    faces = face_cascade.detectMultiScale(image, scaleFactor=1.1, minNeighbors=5, minSize=(30, 30))\n",
    "    \n",
    "    if len(faces) > 0:\n",
    "        x, y, w, h = faces[0]\n",
    "        face = image[y:y + h, x:x + w]\n",
    "        return cv2.resize(face, (128, 128))\n",
    "    else:\n",
    "        return None"
   ]
  },
  {
   "cell_type": "markdown",
   "metadata": {},
   "source": [
    "##### Ensuring consistent feature scaling for the machine learning model\n",
    "Applies Standard Scaling to normalize the pixel values of the face images."
   ]
  },
  {
   "cell_type": "code",
   "execution_count": 4,
   "metadata": {},
   "outputs": [],
   "source": [
    "def normalize_images(faces):\n",
    "    scaler = StandardScaler()\n",
    "    faces_normalized = scaler.fit_transform(faces)\n",
    "    return faces_normalized, scaler"
   ]
  },
  {
   "cell_type": "markdown",
   "metadata": {},
   "source": [
    "##### Increasing the diversity of the training data to improve model generalization\n",
    "Flips the input image horizontally for data augmentation."
   ]
  },
  {
   "cell_type": "code",
   "execution_count": 5,
   "metadata": {},
   "outputs": [],
   "source": [
    "def apply_data_augmentation(image):\n",
    "    # Flip horizontally for data augmentation\n",
    "    return cv2.flip(image, 1)"
   ]
  },
  {
   "cell_type": "markdown",
   "metadata": {},
   "source": [
    "##### Reducing the feature space while preserving important information\n",
    "Applies Principal Component Analysis (PCA) to reduce dimensionality and extract features from normalized faces."
   ]
  },
  {
   "cell_type": "code",
   "execution_count": 6,
   "metadata": {},
   "outputs": [],
   "source": [
    "def extract_features(faces_normalized, n_components):\n",
    "    pca = PCA(n_components=n_components)\n",
    "    features = pca.fit_transform(faces_normalized)\n",
    "    return features, pca"
   ]
  },
  {
   "cell_type": "markdown",
   "metadata": {},
   "source": [
    "##### Building a model for face recognition\n",
    "Trains a Support Vector Machine (SVM) classifier using the input features and labels"
   ]
  },
  {
   "cell_type": "code",
   "execution_count": 7,
   "metadata": {},
   "outputs": [],
   "source": [
    "def train_svm(features, labels):\n",
    "    clf = SVC()\n",
    "    clf.fit(features, labels)\n",
    "    return clf"
   ]
  },
  {
   "cell_type": "markdown",
   "metadata": {},
   "source": [
    "##### Assessing the performance of the trained model\n",
    "Evaluates the SVM model using various metrics and displays a confusion matrix."
   ]
  },
  {
   "cell_type": "code",
   "execution_count": 8,
   "metadata": {},
   "outputs": [],
   "source": [
    "def evaluate_model(y_test, y_pred):\n",
    "    accuracy = accuracy_score(y_test, y_pred)\n",
    "    precision = precision_score(y_test, y_pred, average='weighted')\n",
    "    recall = recall_score(y_test, y_pred, average='weighted')\n",
    "    f1 = f1_score(y_test, y_pred, average='weighted')\n",
    "    \n",
    "    # Print evaluation metrics\n",
    "    print(f\"Accuracy: {accuracy:.2f}\")\n",
    "    print(f\"Precision: {precision:.2f}\")\n",
    "    print(f\"Recall: {recall:.2f}\")\n",
    "    print(f\"F1 Score: {f1:.2f}\")\n",
    "    \n",
    "    # Generate and plot the confusion matrix\n",
    "    cm = confusion_matrix(y_test, y_pred)\n",
    "    plt.figure(figsize=(10, 8))\n",
    "    sns.heatmap(cm, annot=True, fmt='g', cmap='Blues', xticklabels=np.unique(y_test), yticklabels=np.unique(y_test))\n",
    "    plt.title('Confusion Matrix')\n",
    "    plt.xlabel('Predicted')\n",
    "    plt.ylabel('True')\n",
    "    plt.show()"
   ]
  },
  {
   "cell_type": "markdown",
   "metadata": {},
   "source": [
    "##### Preprocessing an image before making predictions\n",
    "Applies face detection, normalization, and PCA transformation to a single input image."
   ]
  },
  {
   "cell_type": "code",
   "execution_count": 9,
   "metadata": {},
   "outputs": [],
   "source": [
    "def preprocess_image(img, scaler, pca):\n",
    "    face = detect_and_crop_face(img)\n",
    "    if face is not None:\n",
    "        flattened_face = face.flatten()\n",
    "        normalized_face = scaler.transform([flattened_face])\n",
    "        # Apply PCA transformation\n",
    "        transformed_face = pca.transform(normalized_face)\n",
    "        return transformed_face\n",
    "    else:\n",
    "        return None"
   ]
  },
  {
   "cell_type": "markdown",
   "metadata": {},
   "source": [
    "##### Making predictions on new images\n",
    "Predicts the label of a normalized face using the trained SVM model."
   ]
  },
  {
   "cell_type": "code",
   "execution_count": 10,
   "metadata": {},
   "outputs": [],
   "source": [
    "def predict_label(model, normalized_face):\n",
    "    if normalized_face is not None:\n",
    "        prediction = model.predict(normalized_face)\n",
    "        return prediction[0]\n",
    "    else:\n",
    "        return None"
   ]
  },
  {
   "cell_type": "markdown",
   "metadata": {},
   "source": [
    "##### Checking the model's performance on new data\n",
    "Tests the trained model on images from the specified folder, displaying the input image along with the predicted label."
   ]
  },
  {
   "cell_type": "code",
   "execution_count": 11,
   "metadata": {},
   "outputs": [],
   "source": [
    "def test_model_on_images(model, scaler, pca, image_folder):\n",
    "    for root, dirs, files in os.walk(image_folder):\n",
    "        for file in files:\n",
    "            file_path = os.path.join(root, file)\n",
    "            input_image = cv2.imread(file_path, cv2.IMREAD_GRAYSCALE)\n",
    "            display_image = cv2.imread(file_path, cv2.IMREAD_COLOR)\n",
    "            display_image_rgb = cv2.cvtColor(display_image, cv2.COLOR_BGR2RGB) # Convert BGR to RGB before displaying the image\n",
    "            normalized_face = preprocess_image(input_image, scaler, pca)\n",
    "            \n",
    "            if normalized_face is not None:\n",
    "                label = predict_label(model, normalized_face)\n",
    "                if label is not None:\n",
    "                    # Display the input image\n",
    "                    plt.imshow(display_image_rgb)\n",
    "                    plt.title(f\"Image: {file_path}, Predicted Label: {label}\")\n",
    "                    plt.show()\n",
    "\n",
    "                else:\n",
    "                    plt.imshow(display_image_rgb)\n",
    "                    plt.title(f\"Image: {file_path}, No Label Found\")\n",
    "                    plt.show()\n",
    "            else:\n",
    "                plt.imshow(display_image_rgb)\n",
    "                plt.title(f\"Image: {file_path}, No Face Detected\")\n",
    "                plt.show()"
   ]
  },
  {
   "cell_type": "markdown",
   "metadata": {},
   "source": [
    "##### Executing the entire facial recognition pipeline\n",
    "The main function that orchestrates the entire process, from loading images to training the model and testing it on new images."
   ]
  },
  {
   "cell_type": "code",
   "execution_count": null,
   "metadata": {},
   "outputs": [
    {
     "name": "stdout",
     "output_type": "stream",
     "text": [
      "Step 1: Loaded 3023 images from C:\\Users\\Admin\\Virtual Machine\\Final Project\\my_virtual_env\\lfw_funneled\n",
      "Step 2: Detected and cropped faces for 6018 images\n",
      "Step 3: Normalized images successfully\n"
     ]
    }
   ],
   "source": [
    "def main():\n",
    "    # Step 1: Load LFW images\n",
    "    folder_path = r\"C:\\Users\\Admin\\Virtual Machine\\Final Project\\my_virtual_env\\lfw_funneled\"\n",
    "    image_data, all_labels = load_lfw_images(folder_path)\n",
    "    print(f\"Step 1: Loaded {len(image_data)} images from {folder_path}\")\n",
    "    \n",
    "    # Step 2: Preprocess images\n",
    "    faces = []\n",
    "    face_labels = []  # Create a separate list for labels corresponding to detected faces\n",
    "    for img, label in image_data:\n",
    "        face = detect_and_crop_face(img)\n",
    "        if face is not None:\n",
    "            # Apply data augmentation\n",
    "            augmented_face = apply_data_augmentation(face)\n",
    "            faces.append(face.flatten())\n",
    "            faces.append(augmented_face.flatten())  # Add augmented face to the dataset\n",
    "            face_labels.extend([label, label])  # Add corresponding labels\n",
    "    \n",
    "    print(f\"Step 2: Detected and cropped faces for {len(faces)} images\")\n",
    "    \n",
    "    # Check the number of samples before feature extraction\n",
    "    if len(faces) != len(face_labels):\n",
    "        print(\"Error: Inconsistent number of samples in faces and face_labels.\")\n",
    "        print(f\"Number of samples in faces: {len(faces)}\")\n",
    "        print(f\"Number of samples in face_labels: {len(face_labels)}\")\n",
    "        return None, None, None, None, None\n",
    "    \n",
    "    # Step 3: Normalize images\n",
    "    faces_normalized, scaler = normalize_images(faces)\n",
    "    print(\"Step 3: Normalized images successfully\")\n",
    "    \n",
    "    # Check the number of samples before feature extractionA\n",
    "    if len(faces_normalized) != len(face_labels):\n",
    "        print(\"Error: Inconsistent number of samples in faces_normalized and face_labels.\")\n",
    "        print(f\"Number of samples in faces_normalized: {len(faces_normalized)}\")\n",
    "        print(f\"Number of samples in face_labels: {len(face_labels)}\")\n",
    "        return None, None, None, None, None\n",
    "    \n",
    "    # Step 4: Feature extraction using PCA\n",
    "    n_components = 1000  # Set the desired number of components\n",
    "    features, pca = extract_features(faces_normalized, n_components)\n",
    "    print(f\"Step 4: Feature extraction using PCA with {n_components} components completed\")\n",
    "    \n",
    "    # Step 5: Train SVM classifier\n",
    "    clf = train_svm(features, face_labels)\n",
    "    print(\"Step 5: SVM classifier trained\")\n",
    "    \n",
    "    # Step 6: Evaluate the model\n",
    "    y_test = np.array(face_labels)\n",
    "    y_pred = clf.predict(features)\n",
    "    print(\"Step 6: Model evaluation\")\n",
    "    evaluate_model(y_test, y_pred)\n",
    "\n",
    "    # Return necessary values\n",
    "    return faces_normalized, face_labels, scaler, clf, image_data, pca\n",
    "\n",
    "if __name__ == \"__main__\":\n",
    "    faces_normalized, face_labels, scaler, clf, image_data, pca = main()\n",
    "    # Please input your image path here\n",
    "    test_model_on_images(clf, scaler, pca, r\"C:\\Users\\Admin\\Virtual Machine\\Final Project\\my_virtual_env\\Test_Image_input\")"
   ]
  }
 ],
 "metadata": {
  "kernelspec": {
   "display_name": "Python 3 (ipykernel)",
   "language": "python",
   "name": "python3"
  },
  "language_info": {
   "codemirror_mode": {
    "name": "ipython",
    "version": 3
   },
   "file_extension": ".py",
   "mimetype": "text/x-python",
   "name": "python",
   "nbconvert_exporter": "python",
   "pygments_lexer": "ipython3",
   "version": "3.10.7"
  }
 },
 "nbformat": 4,
 "nbformat_minor": 4
}
